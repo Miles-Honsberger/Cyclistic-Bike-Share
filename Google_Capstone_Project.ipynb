{
  "nbformat": 4,
  "nbformat_minor": 0,
  "metadata": {
    "colab": {
      "provenance": [],
      "authorship_tag": "ABX9TyN5F5pQq6oKDi+5fNfyeiGB",
      "include_colab_link": true
    },
    "kernelspec": {
      "name": "python3",
      "display_name": "Python 3"
    },
    "language_info": {
      "name": "python"
    }
  },
  "cells": [
    {
      "cell_type": "markdown",
      "metadata": {
        "id": "view-in-github",
        "colab_type": "text"
      },
      "source": [
        "<a href=\"https://colab.research.google.com/github/Miles-Honsberger/Cyclistic-Bike-Share/blob/main/Google_Capstone_Project.ipynb\" target=\"_parent\"><img src=\"https://colab.research.google.com/assets/colab-badge.svg\" alt=\"Open In Colab\"/></a>"
      ]
    },
    {
      "cell_type": "markdown",
      "source": [
        "#Introduction\n",
        "This project will be an analysis of a year's worth of data from a fictional company called 'Cyclistic' as part of the Google Data Analyst Certificate. This analysis will be conducted in Python and further visualizations will be made through Tableau\n",
        "\n",
        "#Scenario\n",
        "\"You are a junior data analyst working in the marketing analyst team at Cyclistic, a bike-share company in Chicago. The director\n",
        "of marketing believes the company’s future success depends on maximizing the number of annual memberships. Therefore,\n",
        "your team wants to understand how casual riders and annual members use Cyclistic bikes differently. From these insights,\n",
        "your team will design a new marketing strategy to convert casual riders into annual members. But first, Cyclistic executives\n",
        "must approve your recommendations, so they must be backed up with compelling data insights and professional data visualizations.\"\n",
        "\n",
        "#Ask - what needs to be done?\n",
        "The stakeholders want to convert casual riders into annual members. So we should analyze the data history of both parties to draw insights. From there we should determine what would make a casual member want to convert to annual. Finally, we need to determine a marketing strategy to do so.\n",
        "\n",
        "#Prepare - guiding questions about the data\n",
        "The data for this analysis is provided by google for the project in the form of CSV files. The data does not contain any sensitive information and is public. The data used is also the most current available, and the data columns and types are consistent. There are no duplicates but there are thousands of rows with null values\n",
        "\n",
        "#Process - How do we go about using tools on this data\n",
        "Both excel and bigquery (free version) are not strong enough to handle computations and queries without crashing, so I've opted to use Python for most of the processing before creating a final comprehensive visualization in Tableau\n",
        "\n",
        "#Analyze - Tell the story\n",
        "I will be using Python to create simple visualizations and calculations relevant to our analysis. As mentioned, Tableau will be used once we have a clean and comprehensive dataset\n",
        "\n",
        "#Share - Get different opinions\n",
        "Ideally, we would have a real job at a company with peers to lend their opinion on this analysis, but since this is just a practice project we'll have to skip this step\n",
        "\n",
        "#Act - Put the plan into action\n",
        "This is when we create a course of action based on the findings in this analysis. Again, since this is not a real company project this step will have to be skipped.\n",
        "\n"
      ],
      "metadata": {
        "id": "uwrWZlf0_GVy"
      }
    },
    {
      "cell_type": "code",
      "execution_count": 4,
      "metadata": {
        "id": "_rkN3pMvvbpc",
        "colab": {
          "base_uri": "https://localhost:8080/"
        },
        "outputId": "45bdb80a-c0a0-4078-a46e-febd2a7a846d"
      },
      "outputs": [
        {
          "output_type": "stream",
          "name": "stderr",
          "text": [
            "/usr/local/lib/python3.10/dist-packages/ipykernel/ipkernel.py:283: DeprecationWarning: `should_run_async` will not call `transform_cell` automatically in the future. Please pass the result to `transformed_cell` argument and any exception that happen during thetransform in `preprocessing_exc_tuple` in IPython 7.17 and above.\n",
            "  and should_run_async(code)\n"
          ]
        },
        {
          "output_type": "stream",
          "name": "stdout",
          "text": [
            "Drive already mounted at /content/drive; to attempt to forcibly remount, call drive.mount(\"/content/drive\", force_remount=True).\n"
          ]
        }
      ],
      "source": [
        "#Load some libraries and datasets\n",
        "import pandas as pd\n",
        "import numpy as np\n",
        "import matplotlib.pyplot as plt\n",
        "import seaborn as sns\n",
        "import datetime\n",
        "from datetime import timedelta\n",
        "import re\n",
        "from matplotlib.dates import DateFormatter\n",
        "from google.colab import files,drive\n",
        "drive.mount('/content/drive')\n",
        "\n",
        "\n",
        "import warnings\n",
        "warnings.filterwarnings('ignore')\n",
        "\n",
        "# t-test library package\n",
        "from scipy.stats import ttest_ind\n",
        "#check for association words package\n",
        "from mlxtend.frequent_patterns import apriori, association_rules"
      ]
    },
    {
      "cell_type": "code",
      "source": [
        "#I am using colab so the necessary datasets will have to be uploaded\n",
        "upload = files.upload()"
      ],
      "metadata": {
        "colab": {
          "base_uri": "https://localhost:8080/",
          "height": 162
        },
        "id": "DbjuPO0Lvjyx",
        "outputId": "38233d7b-ec60-474e-f649-ca30ec2af7a3"
      },
      "execution_count": null,
      "outputs": [
        {
          "output_type": "stream",
          "name": "stderr",
          "text": [
            "/usr/local/lib/python3.10/dist-packages/ipykernel/ipkernel.py:283: DeprecationWarning:\n",
            "\n",
            "`should_run_async` will not call `transform_cell` automatically in the future. Please pass the result to `transformed_cell` argument and any exception that happen during thetransform in `preprocessing_exc_tuple` in IPython 7.17 and above.\n",
            "\n"
          ]
        },
        {
          "output_type": "display_data",
          "data": {
            "text/plain": [
              "<IPython.core.display.HTML object>"
            ],
            "text/html": [
              "\n",
              "     <input type=\"file\" id=\"files-c1330d60-dc23-46cf-a836-f4c27e7a8cd2\" name=\"files[]\" multiple disabled\n",
              "        style=\"border:none\" />\n",
              "     <output id=\"result-c1330d60-dc23-46cf-a836-f4c27e7a8cd2\">\n",
              "      Upload widget is only available when the cell has been executed in the\n",
              "      current browser session. Please rerun this cell to enable.\n",
              "      </output>\n",
              "      <script>// Copyright 2017 Google LLC\n",
              "//\n",
              "// Licensed under the Apache License, Version 2.0 (the \"License\");\n",
              "// you may not use this file except in compliance with the License.\n",
              "// You may obtain a copy of the License at\n",
              "//\n",
              "//      http://www.apache.org/licenses/LICENSE-2.0\n",
              "//\n",
              "// Unless required by applicable law or agreed to in writing, software\n",
              "// distributed under the License is distributed on an \"AS IS\" BASIS,\n",
              "// WITHOUT WARRANTIES OR CONDITIONS OF ANY KIND, either express or implied.\n",
              "// See the License for the specific language governing permissions and\n",
              "// limitations under the License.\n",
              "\n",
              "/**\n",
              " * @fileoverview Helpers for google.colab Python module.\n",
              " */\n",
              "(function(scope) {\n",
              "function span(text, styleAttributes = {}) {\n",
              "  const element = document.createElement('span');\n",
              "  element.textContent = text;\n",
              "  for (const key of Object.keys(styleAttributes)) {\n",
              "    element.style[key] = styleAttributes[key];\n",
              "  }\n",
              "  return element;\n",
              "}\n",
              "\n",
              "// Max number of bytes which will be uploaded at a time.\n",
              "const MAX_PAYLOAD_SIZE = 100 * 1024;\n",
              "\n",
              "function _uploadFiles(inputId, outputId) {\n",
              "  const steps = uploadFilesStep(inputId, outputId);\n",
              "  const outputElement = document.getElementById(outputId);\n",
              "  // Cache steps on the outputElement to make it available for the next call\n",
              "  // to uploadFilesContinue from Python.\n",
              "  outputElement.steps = steps;\n",
              "\n",
              "  return _uploadFilesContinue(outputId);\n",
              "}\n",
              "\n",
              "// This is roughly an async generator (not supported in the browser yet),\n",
              "// where there are multiple asynchronous steps and the Python side is going\n",
              "// to poll for completion of each step.\n",
              "// This uses a Promise to block the python side on completion of each step,\n",
              "// then passes the result of the previous step as the input to the next step.\n",
              "function _uploadFilesContinue(outputId) {\n",
              "  const outputElement = document.getElementById(outputId);\n",
              "  const steps = outputElement.steps;\n",
              "\n",
              "  const next = steps.next(outputElement.lastPromiseValue);\n",
              "  return Promise.resolve(next.value.promise).then((value) => {\n",
              "    // Cache the last promise value to make it available to the next\n",
              "    // step of the generator.\n",
              "    outputElement.lastPromiseValue = value;\n",
              "    return next.value.response;\n",
              "  });\n",
              "}\n",
              "\n",
              "/**\n",
              " * Generator function which is called between each async step of the upload\n",
              " * process.\n",
              " * @param {string} inputId Element ID of the input file picker element.\n",
              " * @param {string} outputId Element ID of the output display.\n",
              " * @return {!Iterable<!Object>} Iterable of next steps.\n",
              " */\n",
              "function* uploadFilesStep(inputId, outputId) {\n",
              "  const inputElement = document.getElementById(inputId);\n",
              "  inputElement.disabled = false;\n",
              "\n",
              "  const outputElement = document.getElementById(outputId);\n",
              "  outputElement.innerHTML = '';\n",
              "\n",
              "  const pickedPromise = new Promise((resolve) => {\n",
              "    inputElement.addEventListener('change', (e) => {\n",
              "      resolve(e.target.files);\n",
              "    });\n",
              "  });\n",
              "\n",
              "  const cancel = document.createElement('button');\n",
              "  inputElement.parentElement.appendChild(cancel);\n",
              "  cancel.textContent = 'Cancel upload';\n",
              "  const cancelPromise = new Promise((resolve) => {\n",
              "    cancel.onclick = () => {\n",
              "      resolve(null);\n",
              "    };\n",
              "  });\n",
              "\n",
              "  // Wait for the user to pick the files.\n",
              "  const files = yield {\n",
              "    promise: Promise.race([pickedPromise, cancelPromise]),\n",
              "    response: {\n",
              "      action: 'starting',\n",
              "    }\n",
              "  };\n",
              "\n",
              "  cancel.remove();\n",
              "\n",
              "  // Disable the input element since further picks are not allowed.\n",
              "  inputElement.disabled = true;\n",
              "\n",
              "  if (!files) {\n",
              "    return {\n",
              "      response: {\n",
              "        action: 'complete',\n",
              "      }\n",
              "    };\n",
              "  }\n",
              "\n",
              "  for (const file of files) {\n",
              "    const li = document.createElement('li');\n",
              "    li.append(span(file.name, {fontWeight: 'bold'}));\n",
              "    li.append(span(\n",
              "        `(${file.type || 'n/a'}) - ${file.size} bytes, ` +\n",
              "        `last modified: ${\n",
              "            file.lastModifiedDate ? file.lastModifiedDate.toLocaleDateString() :\n",
              "                                    'n/a'} - `));\n",
              "    const percent = span('0% done');\n",
              "    li.appendChild(percent);\n",
              "\n",
              "    outputElement.appendChild(li);\n",
              "\n",
              "    const fileDataPromise = new Promise((resolve) => {\n",
              "      const reader = new FileReader();\n",
              "      reader.onload = (e) => {\n",
              "        resolve(e.target.result);\n",
              "      };\n",
              "      reader.readAsArrayBuffer(file);\n",
              "    });\n",
              "    // Wait for the data to be ready.\n",
              "    let fileData = yield {\n",
              "      promise: fileDataPromise,\n",
              "      response: {\n",
              "        action: 'continue',\n",
              "      }\n",
              "    };\n",
              "\n",
              "    // Use a chunked sending to avoid message size limits. See b/62115660.\n",
              "    let position = 0;\n",
              "    do {\n",
              "      const length = Math.min(fileData.byteLength - position, MAX_PAYLOAD_SIZE);\n",
              "      const chunk = new Uint8Array(fileData, position, length);\n",
              "      position += length;\n",
              "\n",
              "      const base64 = btoa(String.fromCharCode.apply(null, chunk));\n",
              "      yield {\n",
              "        response: {\n",
              "          action: 'append',\n",
              "          file: file.name,\n",
              "          data: base64,\n",
              "        },\n",
              "      };\n",
              "\n",
              "      let percentDone = fileData.byteLength === 0 ?\n",
              "          100 :\n",
              "          Math.round((position / fileData.byteLength) * 100);\n",
              "      percent.textContent = `${percentDone}% done`;\n",
              "\n",
              "    } while (position < fileData.byteLength);\n",
              "  }\n",
              "\n",
              "  // All done.\n",
              "  yield {\n",
              "    response: {\n",
              "      action: 'complete',\n",
              "    }\n",
              "  };\n",
              "}\n",
              "\n",
              "scope.google = scope.google || {};\n",
              "scope.google.colab = scope.google.colab || {};\n",
              "scope.google.colab._files = {\n",
              "  _uploadFiles,\n",
              "  _uploadFilesContinue,\n",
              "};\n",
              "})(self);\n",
              "</script> "
            ]
          },
          "metadata": {}
        },
        {
          "output_type": "stream",
          "name": "stdout",
          "text": [
            "Saving year.csv to year.csv\n"
          ]
        }
      ]
    },
    {
      "cell_type": "code",
      "source": [
        "#The dates are created bu reading each CSV file:\n",
        "Jul = pd.read_csv(\"Jul'22.csv\")\n",
        "Aug = pd.read_csv(\"Aug'22.csv\")\n",
        "Sep = pd.read_csv(\"Sept'22.csv\")\n",
        "Oct = pd.read_csv(\"Oct'22.csv\")\n",
        "Nov = pd.read_csv(\"Nov'22.csv\")\n",
        "Dec = pd.read_csv(\"Dec'22.csv\")\n",
        "Jan = pd.read_csv(\"Jan'23.csv\")\n",
        "Feb = pd.read_csv(\"Feb'23.csv\")\n",
        "Mar = pd.read_csv(\"March'23.csv\")\n",
        "Apr = pd.read_csv(\"April'23.csv\")\n",
        "May = pd.read_csv(\"May'23.csv\")\n",
        "Jun = pd.read_csv(\"Jun'23.csv\")"
      ],
      "metadata": {
        "colab": {
          "base_uri": "https://localhost:8080/"
        },
        "id": "p-uj99eNKIkx",
        "outputId": "52763fc3-cc62-4126-b9f1-8f27e3fe34b5"
      },
      "execution_count": null,
      "outputs": [
        {
          "output_type": "stream",
          "name": "stderr",
          "text": [
            "/usr/local/lib/python3.10/dist-packages/ipykernel/ipkernel.py:283: DeprecationWarning: `should_run_async` will not call `transform_cell` automatically in the future. Please pass the result to `transformed_cell` argument and any exception that happen during thetransform in `preprocessing_exc_tuple` in IPython 7.17 and above.\n",
            "  and should_run_async(code)\n"
          ]
        }
      ]
    },
    {
      "cell_type": "code",
      "source": [
        "#Concat all CSVs into one dataframe\n",
        "year = pd.concat([Jul,Aug,Sep,Oct,Nov,Dec,Jan,Feb,Mar,Apr,May,Jun])\n"
      ],
      "metadata": {
        "colab": {
          "base_uri": "https://localhost:8080/"
        },
        "id": "eXWIYMyYyWOr",
        "outputId": "9e5eafcb-7423-41af-8062-7efeeab681ac"
      },
      "execution_count": null,
      "outputs": [
        {
          "output_type": "stream",
          "name": "stderr",
          "text": [
            "/usr/local/lib/python3.10/dist-packages/ipykernel/ipkernel.py:283: DeprecationWarning: `should_run_async` will not call `transform_cell` automatically in the future. Please pass the result to `transformed_cell` argument and any exception that happen during thetransform in `preprocessing_exc_tuple` in IPython 7.17 and above.\n",
            "  and should_run_async(code)\n"
          ]
        }
      ]
    },
    {
      "cell_type": "code",
      "source": [
        "#Creating a docscript for a detailed overview of the dataframe\n",
        "def overview():\n",
        "  data = year\n",
        "  print(\"The first five rows of the dataset are:\\n\", data.head())\n",
        "  print(\"\\n\")\n",
        "  print(\"The Row x Column shape is:\\n\",data.shape)\n",
        "  print(\"\\n\")\n",
        "  print(\"The data types are:\\n\",data.dtypes)\n",
        "  print(\"\\n\")\n",
        "  print(\"The amount of null values in each column are:\\n\",data.isnull().sum())\n",
        "  print(\"\\n\")\n",
        "  print(\"The amount of duplicates in each column are:\\n\",data.duplicated().sum())\n",
        "  return data\n",
        "\n",
        "df = overview()"
      ],
      "metadata": {
        "colab": {
          "base_uri": "https://localhost:8080/"
        },
        "id": "xkPWXYq52Ehk",
        "outputId": "6b3e2852-6455-42fc-be80-35cd1120653c"
      },
      "execution_count": null,
      "outputs": [
        {
          "output_type": "stream",
          "name": "stderr",
          "text": [
            "/usr/local/lib/python3.10/dist-packages/ipykernel/ipkernel.py:283: DeprecationWarning: `should_run_async` will not call `transform_cell` automatically in the future. Please pass the result to `transformed_cell` argument and any exception that happen during thetransform in `preprocessing_exc_tuple` in IPython 7.17 and above.\n",
            "  and should_run_async(code)\n"
          ]
        },
        {
          "output_type": "stream",
          "name": "stdout",
          "text": [
            "The first five rows of the dataset are:\n",
            "             ride_id rideable_type           started_at             ended_at  \\\n",
            "0  954144C2F67B1932  classic_bike  2022-07-05 08:12:47  2022-07-05 08:24:32   \n",
            "1  292E027607D218B6  classic_bike  2022-07-26 12:53:38  2022-07-26 12:55:31   \n",
            "2  57765852588AD6E0  classic_bike  2022-07-03 13:58:49  2022-07-03 14:06:32   \n",
            "3  B5B6BE44314590E6  classic_bike  2022-07-31 17:44:21  2022-07-31 18:42:50   \n",
            "4  A4C331F2A00E79E0  classic_bike  2022-07-13 19:49:06  2022-07-13 20:15:24   \n",
            "\n",
            "           start_station_name start_station_id  \\\n",
            "0  Ashland Ave & Blackhawk St            13224   \n",
            "1  Buckingham Fountain (Temp)            15541   \n",
            "2  Buckingham Fountain (Temp)            15541   \n",
            "3  Buckingham Fountain (Temp)            15541   \n",
            "4      Wabash Ave & Grand Ave     TA1307000117   \n",
            "\n",
            "                 end_station_name end_station_id  start_lat  start_lng  \\\n",
            "0        Kingsbury St & Kinzie St   KA1503000043  41.907066 -87.667252   \n",
            "1           Michigan Ave & 8th St            623  41.869621 -87.623981   \n",
            "2           Michigan Ave & 8th St            623  41.869621 -87.623981   \n",
            "3          Woodlawn Ave & 55th St   TA1307000164  41.869621 -87.623981   \n",
            "4  Sheffield Ave & Wellington Ave   TA1307000052  41.891466 -87.626761   \n",
            "\n",
            "     end_lat    end_lng member_casual  \n",
            "0  41.889177 -87.638506        member  \n",
            "1  41.872773 -87.623981        casual  \n",
            "2  41.872773 -87.623981        casual  \n",
            "3  41.795264 -87.596471        casual  \n",
            "4  41.936253 -87.652662        member  \n",
            "\n",
            "\n",
            "The Row x Column shape is:\n",
            " (5779444, 13)\n",
            "\n",
            "\n",
            "The data types are:\n",
            " ride_id                object\n",
            "rideable_type          object\n",
            "started_at             object\n",
            "ended_at               object\n",
            "start_station_name     object\n",
            "start_station_id       object\n",
            "end_station_name       object\n",
            "end_station_id         object\n",
            "start_lat             float64\n",
            "start_lng             float64\n",
            "end_lat               float64\n",
            "end_lng               float64\n",
            "member_casual          object\n",
            "dtype: object\n",
            "\n",
            "\n",
            "The amount of null values in each column are:\n",
            " ride_id                    0\n",
            "rideable_type              0\n",
            "started_at                 0\n",
            "ended_at                   0\n",
            "start_station_name    857860\n",
            "start_station_id      857992\n",
            "end_station_name      915655\n",
            "end_station_id        915796\n",
            "start_lat                  0\n",
            "start_lng                  0\n",
            "end_lat                 5795\n",
            "end_lng                 5795\n",
            "member_casual              0\n",
            "dtype: int64\n",
            "\n",
            "\n",
            "The amount of duplicates in each column are:\n",
            " 0\n"
          ]
        }
      ]
    },
    {
      "cell_type": "code",
      "source": [
        "#Remove duplicates, remove columns unnecessary for analysis, and remove column with null values that are important\n",
        "year = year.drop_duplicates()\n",
        "year = year.drop(columns = [\"start_station_name\", \"start_station_id\", \"end_station_name\", \"end_station_id\", \"start_lat\", \"start_lng\", \"end_lat\", \"end_lng\"])\n",
        "year = year.dropna(subset = [\"started_at\", \"ended_at\"])"
      ],
      "metadata": {
        "id": "N32cVacp-yps"
      },
      "execution_count": null,
      "outputs": []
    },
    {
      "cell_type": "code",
      "source": [
        "#From the docscript we see that \"started_at\" and \"ended_at\" are object types\n",
        "#Let's change them to datetime formats using Pandas\n",
        "year[\"started_at\"] = pd.to_datetime(year[\"started_at\"])\n",
        "year[\"ended_at\"] = pd.to_datetime(year[\"ended_at\"])"
      ],
      "metadata": {
        "colab": {
          "base_uri": "https://localhost:8080/"
        },
        "id": "mi05TGOsCHc3",
        "outputId": "f50a6c66-0103-49f0-f6bd-370f9e4ee808"
      },
      "execution_count": null,
      "outputs": [
        {
          "output_type": "stream",
          "name": "stderr",
          "text": [
            "/usr/local/lib/python3.10/dist-packages/ipykernel/ipkernel.py:283: DeprecationWarning: `should_run_async` will not call `transform_cell` automatically in the future. Please pass the result to `transformed_cell` argument and any exception that happen during thetransform in `preprocessing_exc_tuple` in IPython 7.17 and above.\n",
            "  and should_run_async(code)\n"
          ]
        }
      ]
    },
    {
      "cell_type": "code",
      "source": [
        "#Loads CSV from Google Drives\n",
        "#This CSV has been updated and manipulated by the above code\n",
        "#and is stored in a Google Drive for ease of future analysis and corrections\n",
        "df = pd.read_csv('/content/drive/My Drive/Data Analysis/Google Capstone Project/bike_df.csv')"
      ],
      "metadata": {
        "id": "TCnVpQL_6EkA"
      },
      "execution_count": 5,
      "outputs": []
    },
    {
      "cell_type": "code",
      "source": [
        "df.dtypes"
      ],
      "metadata": {
        "colab": {
          "base_uri": "https://localhost:8080/"
        },
        "id": "g_buuE_QVgBI",
        "outputId": "7e0c9074-e1a2-43f4-8d3e-e8bb6129a374"
      },
      "execution_count": null,
      "outputs": [
        {
          "output_type": "stream",
          "name": "stderr",
          "text": [
            "/usr/local/lib/python3.10/dist-packages/ipykernel/ipkernel.py:283: DeprecationWarning: `should_run_async` will not call `transform_cell` automatically in the future. Please pass the result to `transformed_cell` argument and any exception that happen during thetransform in `preprocessing_exc_tuple` in IPython 7.17 and above.\n",
            "  and should_run_async(code)\n"
          ]
        },
        {
          "output_type": "execute_result",
          "data": {
            "text/plain": [
              "Unnamed: 0        int64\n",
              "ride_id          object\n",
              "rideable_type    object\n",
              "started_at       object\n",
              "ended_at         object\n",
              "member_casual    object\n",
              "dtype: object"
            ]
          },
          "metadata": {},
          "execution_count": 6
        }
      ]
    },
    {
      "cell_type": "code",
      "source": [
        "#frustratingly, the datatypes were changed to objects when downloading the CSV, so we change them back\n",
        "df[\"started_at\"] = pd.to_datetime(df[\"started_at\"])\n",
        "df[\"ended_at\"] = pd.to_datetime(df[\"ended_at\"])"
      ],
      "metadata": {
        "id": "ycywvT7aVpqf"
      },
      "execution_count": null,
      "outputs": []
    },
    {
      "cell_type": "code",
      "source": [
        "#We will create a column for the trip duration\n",
        "df['trip_duration'] = df['ended_at'] - df['started_at']\n",
        "df['trip_duration'] = ((df['trip_duration'])/timedelta(minutes=1)).round(decimals = 1)\n",
        "#A column for the day of the week\n",
        "df['day'] = df['started_at'].dt.day_name()\n",
        "#a column for the month\n",
        "df['month'] = df['started_at'].dt.month_name()\n",
        "df['hour'] = df['started_at'].dt.hour\n",
        "df = df.rename(columns={'member_casual':'membership'})\n",
        "df = df[df[\"rideable_type\"].str.contains(\"docked_bike\")==False]"
      ],
      "metadata": {
        "id": "zGtaz4fcKn4a"
      },
      "execution_count": null,
      "outputs": []
    },
    {
      "cell_type": "code",
      "source": [
        "#We will create columns for defining seasons and times of day for Tableau\n",
        "def season_converter(month):\n",
        "  seasons = {\n",
        "      'December':'Winter', 'January':'Winter', 'February':'Winter',\n",
        "      'March':'Spring', 'April':'Spring', 'May':'Spring',\n",
        "      'June':'Summer', 'July':'Summer', 'August':'Summer',\n",
        "      'September':'Fall', 'October':'Fall', 'November':'Fall'\n",
        "      }\n",
        "  return seasons.get(month)"
      ],
      "metadata": {
        "id": "fB4oVl5Yytz2"
      },
      "execution_count": 13,
      "outputs": []
    },
    {
      "cell_type": "code",
      "source": [
        "seasons_list = []\n",
        "for month in df['month']:\n",
        "  season = season_converter(month)\n",
        "  seasons_list.append(season)\n",
        "\n",
        "df['season'] = seasons_list"
      ],
      "metadata": {
        "id": "7G4ofL8d1iKM"
      },
      "execution_count": 14,
      "outputs": []
    },
    {
      "cell_type": "code",
      "source": [
        "def tod_converter(hour):\n",
        "  times = {\n",
        "      0:'Night', 1:'Night', 2:'Night', 3:'Night', 4:'Night', 5:'Night',\n",
        "      6:'Morning', 7:'Morning', 8:'Morning', 9:'Morning', 10:'Morning', 11:'Morning',\n",
        "      12: \"Noon\",\n",
        "      13:'Afternoon', 14:'Afternoon', 15:'Afternoon', 16:'Afternoon', 17:'Afternoon', 18:'Afternoon', 19:'Afternoon', 20:'Afternoon',\n",
        "      21:'Night', 22:'Night', 23:'Night'\n",
        "    }\n",
        "  return times.get(hour)"
      ],
      "metadata": {
        "id": "GOlRzPTzFxmj"
      },
      "execution_count": 17,
      "outputs": []
    },
    {
      "cell_type": "code",
      "source": [
        "times_list = []\n",
        "for hour in df['hour']:\n",
        "  tod = tod_converter(hour)\n",
        "  times_list.append(tod)\n",
        "df[\"time_of_day\"] = times_list"
      ],
      "metadata": {
        "id": "PhNMDI4tLUsg"
      },
      "execution_count": 18,
      "outputs": []
    },
    {
      "cell_type": "code",
      "source": [
        "df.describe"
      ],
      "metadata": {
        "colab": {
          "base_uri": "https://localhost:8080/"
        },
        "id": "eQ3ca1lQV7XI",
        "outputId": "289ab27b-6f2b-4b98-dbfe-ab42e0c2058b"
      },
      "execution_count": 19,
      "outputs": [
        {
          "output_type": "execute_result",
          "data": {
            "text/plain": [
              "<bound method NDFrame.describe of          Unnamed: 0.1  Unnamed: 0           ride_id  rideable_type  \\\n",
              "0                   0           0  954144C2F67B1932   classic_bike   \n",
              "1                   1           1  292E027607D218B6   classic_bike   \n",
              "2                   2           2  57765852588AD6E0   classic_bike   \n",
              "3                   3           3  B5B6BE44314590E6   classic_bike   \n",
              "4                   4           4  A4C331F2A00E79E0   classic_bike   \n",
              "...               ...         ...               ...            ...   \n",
              "5637904       5779439      719613  D7BBF4BCBB72DA32   classic_bike   \n",
              "5637905       5779440      719614  9A1685F9A39646CA  electric_bike   \n",
              "5637906       5779441      719615  CD4CC5A60881C7AF  electric_bike   \n",
              "5637907       5779442      719616  FF6594685CFE2056  electric_bike   \n",
              "5637908       5779443      719617  66EF9F3C318208B9   classic_bike   \n",
              "\n",
              "                  started_at             ended_at membership  trip_duration  \\\n",
              "0        2022-07-05 08:12:47  2022-07-05 08:24:32     member           11.8   \n",
              "1        2022-07-26 12:53:38  2022-07-26 12:55:31     casual            1.9   \n",
              "2        2022-07-03 13:58:49  2022-07-03 14:06:32     casual            7.7   \n",
              "3        2022-07-31 17:44:21  2022-07-31 18:42:50     casual           58.5   \n",
              "4        2022-07-13 19:49:06  2022-07-13 20:15:24     member           26.3   \n",
              "...                      ...                  ...        ...            ...   \n",
              "5637904  2023-06-30 12:58:56  2023-06-30 13:41:25     casual           42.5   \n",
              "5637905  2023-06-29 19:56:44  2023-06-29 20:09:15     casual           12.5   \n",
              "5637906  2023-06-25 00:27:20  2023-06-25 00:39:09     casual           11.8   \n",
              "5637907  2023-06-24 21:26:57  2023-06-24 21:28:44     casual            1.8   \n",
              "5637908  2023-06-24 21:30:30  2023-06-25 22:30:07     casual         1499.6   \n",
              "\n",
              "               day month  hour  season time_of_day  \n",
              "0          Tuesday  July     8  Summer     Morning  \n",
              "1          Tuesday  July    12  Summer        Noon  \n",
              "2           Sunday  July    13  Summer   Afternoon  \n",
              "3           Sunday  July    17  Summer   Afternoon  \n",
              "4        Wednesday  July    19  Summer   Afternoon  \n",
              "...            ...   ...   ...     ...         ...  \n",
              "5637904     Friday  June    12  Summer        Noon  \n",
              "5637905   Thursday  June    19  Summer   Afternoon  \n",
              "5637906     Sunday  June     0  Summer       Night  \n",
              "5637907   Saturday  June    21  Summer       Night  \n",
              "5637908   Saturday  June    21  Summer       Night  \n",
              "\n",
              "[5637909 rows x 13 columns]>"
            ]
          },
          "metadata": {},
          "execution_count": 19
        }
      ]
    },
    {
      "cell_type": "code",
      "source": [
        "df.to_csv('bike_df.csv')"
      ],
      "metadata": {
        "id": "R0k45pQazjyO"
      },
      "execution_count": null,
      "outputs": []
    },
    {
      "cell_type": "code",
      "source": [
        "files.download('bike_df.csv')"
      ],
      "metadata": {
        "colab": {
          "base_uri": "https://localhost:8080/",
          "height": 34
        },
        "id": "SaJ5LnG41UjF",
        "outputId": "d483846b-b20e-48ed-b524-eb1612b45037"
      },
      "execution_count": null,
      "outputs": [
        {
          "output_type": "display_data",
          "data": {
            "text/plain": [
              "<IPython.core.display.Javascript object>"
            ],
            "application/javascript": [
              "\n",
              "    async function download(id, filename, size) {\n",
              "      if (!google.colab.kernel.accessAllowed) {\n",
              "        return;\n",
              "      }\n",
              "      const div = document.createElement('div');\n",
              "      const label = document.createElement('label');\n",
              "      label.textContent = `Downloading \"${filename}\": `;\n",
              "      div.appendChild(label);\n",
              "      const progress = document.createElement('progress');\n",
              "      progress.max = size;\n",
              "      div.appendChild(progress);\n",
              "      document.body.appendChild(div);\n",
              "\n",
              "      const buffers = [];\n",
              "      let downloaded = 0;\n",
              "\n",
              "      const channel = await google.colab.kernel.comms.open(id);\n",
              "      // Send a message to notify the kernel that we're ready.\n",
              "      channel.send({})\n",
              "\n",
              "      for await (const message of channel.messages) {\n",
              "        // Send a message to notify the kernel that we're ready.\n",
              "        channel.send({})\n",
              "        if (message.buffers) {\n",
              "          for (const buffer of message.buffers) {\n",
              "            buffers.push(buffer);\n",
              "            downloaded += buffer.byteLength;\n",
              "            progress.value = downloaded;\n",
              "          }\n",
              "        }\n",
              "      }\n",
              "      const blob = new Blob(buffers, {type: 'application/binary'});\n",
              "      const a = document.createElement('a');\n",
              "      a.href = window.URL.createObjectURL(blob);\n",
              "      a.download = filename;\n",
              "      div.appendChild(a);\n",
              "      a.click();\n",
              "      div.remove();\n",
              "    }\n",
              "  "
            ]
          },
          "metadata": {}
        },
        {
          "output_type": "display_data",
          "data": {
            "text/plain": [
              "<IPython.core.display.Javascript object>"
            ],
            "application/javascript": [
              "download(\"download_2d01bd35-31f0-4515-96e6-5f0c9f79e654\", \"bike_df.csv\", 644979570)"
            ]
          },
          "metadata": {}
        }
      ]
    },
    {
      "cell_type": "markdown",
      "source": [
        "**Thus ends the processing stage**\n",
        "\n",
        "We now create some basic visualizations and calculations for our initial insights\n",
        "\n",
        "Since we are given the months and weekdays, we can break down the analysis by a monthly and weekly basis\n"
      ],
      "metadata": {
        "id": "iPkr7QdIWSGc"
      }
    },
    {
      "cell_type": "code",
      "source": [
        "#Create a countplot of casual members vs annual members\n",
        "sns.countplot(data = df, x = 'membership')"
      ],
      "metadata": {
        "colab": {
          "base_uri": "https://localhost:8080/",
          "height": 537
        },
        "id": "hSu_39MUHUrg",
        "outputId": "5a319002-1fb0-46f0-df50-d524acabb1fe"
      },
      "execution_count": null,
      "outputs": [
        {
          "output_type": "stream",
          "name": "stderr",
          "text": [
            "/usr/local/lib/python3.10/dist-packages/ipykernel/ipkernel.py:283: DeprecationWarning: `should_run_async` will not call `transform_cell` automatically in the future. Please pass the result to `transformed_cell` argument and any exception that happen during thetransform in `preprocessing_exc_tuple` in IPython 7.17 and above.\n",
            "  and should_run_async(code)\n"
          ]
        },
        {
          "output_type": "execute_result",
          "data": {
            "text/plain": [
              "<Axes: xlabel='membership', ylabel='count'>"
            ]
          },
          "metadata": {},
          "execution_count": 5
        },
        {
          "output_type": "display_data",
          "data": {
            "text/plain": [
              "<Figure size 640x480 with 1 Axes>"
            ],
            "image/png": "[encoded data removed]"
          },
          "metadata": {}
        }
      ]
    },
    {
      "cell_type": "code",
      "source": [
        "#Create a visualization for trip durations by membership\n",
        "sns.barplot(x='membership', y='trip_duration', data = df)"
      ],
      "metadata": {
        "colab": {
          "base_uri": "https://localhost:8080/",
          "height": 466
        },
        "id": "fw5VxZRLZ_WW",
        "outputId": "490db88d-a770-44eb-96ae-da83e4178e01"
      },
      "execution_count": null,
      "outputs": [
        {
          "output_type": "execute_result",
          "data": {
            "text/plain": [
              "<Axes: xlabel='membership', ylabel='trip_duration'>"
            ]
          },
          "metadata": {},
          "execution_count": 19
        },
        {
          "output_type": "display_data",
          "data": {
            "text/plain": [
              "<Figure size 640x480 with 1 Axes>"
            ],
            "image/png": "[encoded data removed]"
          },
          "metadata": {}
        }
      ]
    },
    {
      "cell_type": "markdown",
      "source": [
        "Surprisingly, casual members have a much longer trip duration than annual members."
      ],
      "metadata": {
        "id": "YV3xC2FVbUsO"
      }
    },
    {
      "cell_type": "code",
      "source": [
        "#We analyze the bike preference by membership type\n",
        "sns.countplot(data = df, x = 'rideable_type', hue = 'membership')"
      ],
      "metadata": {
        "colab": {
          "base_uri": "https://localhost:8080/",
          "height": 482
        },
        "id": "N9Ab2HYlbbtk",
        "outputId": "4584dadd-9a93-4a62-801f-5b86c1d17319"
      },
      "execution_count": null,
      "outputs": [
        {
          "output_type": "execute_result",
          "data": {
            "text/plain": [
              "<Axes: xlabel='rideable_type', ylabel='count'>"
            ]
          },
          "metadata": {},
          "execution_count": 32
        },
        {
          "output_type": "display_data",
          "data": {
            "text/plain": [
              "<Figure size 640x480 with 1 Axes>"
            ],
            "image/png": "[encoded data removed]"
          },
          "metadata": {}
        }
      ]
    },
    {
      "cell_type": "code",
      "source": [
        "#Create a pivot table to analyze the number of riders by the month\n",
        "pivot_months = (\n",
        "    pd.pivot_table(\n",
        "        #group by month and membership\n",
        "        df, index = ['month', 'membership'], values = 'ride_id',\n",
        "        #count the number of rides\n",
        "        aggfunc = {'ride_id':'count'}).reset_index().rename({'ride_id':'count'},axis = 1)\n",
        "        .replace({\n",
        "            False: 'casual riders', True: 'members'\n",
        "        })\n",
        "    )\n",
        "pivot_months.head()"
      ],
      "metadata": {
        "colab": {
          "base_uri": "https://localhost:8080/",
          "height": 206
        },
        "id": "rCxZiFskZCU6",
        "outputId": "b714e8c5-54d8-4ac2-abf1-c0fd92071feb"
      },
      "execution_count": null,
      "outputs": [
        {
          "output_type": "execute_result",
          "data": {
            "text/plain": [
              "      month membership   count\n",
              "0     April     casual  147285\n",
              "1     April     member  279305\n",
              "2    August     casual  358924\n",
              "3    August     member  427008\n",
              "4  December     casual   44894"
            ],
            "text/html": [
              "\n",
              "\n",
              "  <div id=\"df-5d585303-2a4d-4b44-9d6a-b6d9f4d62081\">\n",
              "    <div class=\"colab-df-container\">\n",
              "      <div>\n",
              "<style scoped>\n",
              "    .dataframe tbody tr th:only-of-type {\n",
              "        vertical-align: middle;\n",
              "    }\n",
              "\n",
              "    .dataframe tbody tr th {\n",
              "        vertical-align: top;\n",
              "    }\n",
              "\n",
              "    .dataframe thead th {\n",
              "        text-align: right;\n",
              "    }\n",
              "</style>\n",
              "<table border=\"1\" class=\"dataframe\">\n",
              "  <thead>\n",
              "    <tr style=\"text-align: right;\">\n",
              "      <th></th>\n",
              "      <th>month</th>\n",
              "      <th>membership</th>\n",
              "      <th>count</th>\n",
              "    </tr>\n",
              "  </thead>\n",
              "  <tbody>\n",
              "    <tr>\n",
              "      <th>0</th>\n",
              "      <td>April</td>\n",
              "      <td>casual</td>\n",
              "      <td>147285</td>\n",
              "    </tr>\n",
              "    <tr>\n",
              "      <th>1</th>\n",
              "      <td>April</td>\n",
              "      <td>member</td>\n",
              "      <td>279305</td>\n",
              "    </tr>\n",
              "    <tr>\n",
              "      <th>2</th>\n",
              "      <td>August</td>\n",
              "      <td>casual</td>\n",
              "      <td>358924</td>\n",
              "    </tr>\n",
              "    <tr>\n",
              "      <th>3</th>\n",
              "      <td>August</td>\n",
              "      <td>member</td>\n",
              "      <td>427008</td>\n",
              "    </tr>\n",
              "    <tr>\n",
              "      <th>4</th>\n",
              "      <td>December</td>\n",
              "      <td>casual</td>\n",
              "      <td>44894</td>\n",
              "    </tr>\n",
              "  </tbody>\n",
              "</table>\n",
              "</div>\n",
              "      <button class=\"colab-df-convert\" onclick=\"convertToInteractive('df-5d585303-2a4d-4b44-9d6a-b6d9f4d62081')\"\n",
              "              title=\"Convert this dataframe to an interactive table.\"\n",
              "              style=\"display:none;\">\n",
              "\n",
              "  <svg xmlns=\"http://www.w3.org/2000/svg\" height=\"24px\"viewBox=\"0 0 24 24\"\n",
              "       width=\"24px\">\n",
              "    <path d=\"M0 0h24v24H0V0z\" fill=\"none\"/>\n",
              "    <path d=\"M18.56 5.44l.94 2.06.94-2.06 2.06-.94-2.06-.94-.94-2.06-.94 2.06-2.06.94zm-11 1L8.5 8.5l.94-2.06 2.06-.94-2.06-.94L8.5 2.5l-.94 2.06-2.06.94zm10 10l.94 2.06.94-2.06 2.06-.94-2.06-.94-.94-2.06-.94 2.06-2.06.94z\"/><path d=\"M17.41 7.96l-1.37-1.37c-.4-.4-.92-.59-1.43-.59-.52 0-1.04.2-1.43.59L10.3 9.45l-7.72 7.72c-.78.78-.78 2.05 0 2.83L4 21.41c.39.39.9.59 1.41.59.51 0 1.02-.2 1.41-.59l7.78-7.78 2.81-2.81c.8-.78.8-2.07 0-2.86zM5.41 20L4 18.59l7.72-7.72 1.47 1.35L5.41 20z\"/>\n",
              "  </svg>\n",
              "      </button>\n",
              "\n",
              "\n",
              "\n",
              "    <div id=\"df-0fd1bbcf-081b-425e-9212-049e4f216a91\">\n",
              "      <button class=\"colab-df-quickchart\" onclick=\"quickchart('df-0fd1bbcf-081b-425e-9212-049e4f216a91')\"\n",
              "              title=\"Suggest charts.\"\n",
              "              style=\"display:none;\">\n",
              "\n",
              "<svg xmlns=\"http://www.w3.org/2000/svg\" height=\"24px\"viewBox=\"0 0 24 24\"\n",
              "     width=\"24px\">\n",
              "    <g>\n",
              "        <path d=\"M19 3H5c-1.1 0-2 .9-2 2v14c0 1.1.9 2 2 2h14c1.1 0 2-.9 2-2V5c0-1.1-.9-2-2-2zM9 17H7v-7h2v7zm4 0h-2V7h2v10zm4 0h-2v-4h2v4z\"/>\n",
              "    </g>\n",
              "</svg>\n",
              "      </button>\n",
              "    </div>\n",
              "\n",
              "<style>\n",
              "  .colab-df-quickchart {\n",
              "    background-color: #E8F0FE;\n",
              "    border: none;\n",
              "    border-radius: 50%;\n",
              "    cursor: pointer;\n",
              "    display: none;\n",
              "    fill: #1967D2;\n",
              "    height: 32px;\n",
              "    padding: 0 0 0 0;\n",
              "    width: 32px;\n",
              "  }\n",
              "\n",
              "  .colab-df-quickchart:hover {\n",
              "    background-color: #E2EBFA;\n",
              "    box-shadow: 0px 1px 2px rgba(60, 64, 67, 0.3), 0px 1px 3px 1px rgba(60, 64, 67, 0.15);\n",
              "    fill: #174EA6;\n",
              "  }\n",
              "\n",
              "  [theme=dark] .colab-df-quickchart {\n",
              "    background-color: #3B4455;\n",
              "    fill: #D2E3FC;\n",
              "  }\n",
              "\n",
              "  [theme=dark] .colab-df-quickchart:hover {\n",
              "    background-color: #434B5C;\n",
              "    box-shadow: 0px 1px 3px 1px rgba(0, 0, 0, 0.15);\n",
              "    filter: drop-shadow(0px 1px 2px rgba(0, 0, 0, 0.3));\n",
              "    fill: #FFFFFF;\n",
              "  }\n",
              "</style>\n",
              "\n",
              "    <script>\n",
              "      async function quickchart(key) {\n",
              "        const containerElement = document.querySelector('#' + key);\n",
              "        const charts = await google.colab.kernel.invokeFunction(\n",
              "            'suggestCharts', [key], {});\n",
              "      }\n",
              "    </script>\n",
              "\n",
              "      <script>\n",
              "\n",
              "function displayQuickchartButton(domScope) {\n",
              "  let quickchartButtonEl =\n",
              "    domScope.querySelector('#df-0fd1bbcf-081b-425e-9212-049e4f216a91 button.colab-df-quickchart');\n",
              "  quickchartButtonEl.style.display =\n",
              "    google.colab.kernel.accessAllowed ? 'block' : 'none';\n",
              "}\n",
              "\n",
              "        displayQuickchartButton(document);\n",
              "      </script>\n",
              "      <style>\n",
              "    .colab-df-container {\n",
              "      display:flex;\n",
              "      flex-wrap:wrap;\n",
              "      gap: 12px;\n",
              "    }\n",
              "\n",
              "    .colab-df-convert {\n",
              "      background-color: #E8F0FE;\n",
              "      border: none;\n",
              "      border-radius: 50%;\n",
              "      cursor: pointer;\n",
              "      display: none;\n",
              "      fill: #1967D2;\n",
              "      height: 32px;\n",
              "      padding: 0 0 0 0;\n",
              "      width: 32px;\n",
              "    }\n",
              "\n",
              "    .colab-df-convert:hover {\n",
              "      background-color: #E2EBFA;\n",
              "      box-shadow: 0px 1px 2px rgba(60, 64, 67, 0.3), 0px 1px 3px 1px rgba(60, 64, 67, 0.15);\n",
              "      fill: #174EA6;\n",
              "    }\n",
              "\n",
              "    [theme=dark] .colab-df-convert {\n",
              "      background-color: #3B4455;\n",
              "      fill: #D2E3FC;\n",
              "    }\n",
              "\n",
              "    [theme=dark] .colab-df-convert:hover {\n",
              "      background-color: #434B5C;\n",
              "      box-shadow: 0px 1px 3px 1px rgba(0, 0, 0, 0.15);\n",
              "      filter: drop-shadow(0px 1px 2px rgba(0, 0, 0, 0.3));\n",
              "      fill: #FFFFFF;\n",
              "    }\n",
              "  </style>\n",
              "\n",
              "      <script>\n",
              "        const buttonEl =\n",
              "          document.querySelector('#df-5d585303-2a4d-4b44-9d6a-b6d9f4d62081 button.colab-df-convert');\n",
              "        buttonEl.style.display =\n",
              "          google.colab.kernel.accessAllowed ? 'block' : 'none';\n",
              "\n",
              "        async function convertToInteractive(key) {\n",
              "          const element = document.querySelector('#df-5d585303-2a4d-4b44-9d6a-b6d9f4d62081');\n",
              "          const dataTable =\n",
              "            await google.colab.kernel.invokeFunction('convertToInteractive',\n",
              "                                                     [key], {});\n",
              "          if (!dataTable) return;\n",
              "\n",
              "          const docLinkHtml = 'Like what you see? Visit the ' +\n",
              "            '<a target=\"_blank\" href=https://colab.research.google.com/notebooks/data_table.ipynb>data table notebook</a>'\n",
              "            + ' to learn more about interactive tables.';\n",
              "          element.innerHTML = '';\n",
              "          dataTable['output_type'] = 'display_data';\n",
              "          await google.colab.output.renderOutput(dataTable, element);\n",
              "          const docLink = document.createElement('div');\n",
              "          docLink.innerHTML = docLinkHtml;\n",
              "          element.appendChild(docLink);\n",
              "        }\n",
              "      </script>\n",
              "    </div>\n",
              "  </div>\n"
            ]
          },
          "metadata": {},
          "execution_count": 8
        }
      ]
    },
    {
      "cell_type": "markdown",
      "source": [
        "**We see a much greater number of annual members than casual members, we continue by plotting for a better visualization**"
      ],
      "metadata": {
        "id": "QqtcS2at7wap"
      }
    },
    {
      "cell_type": "code",
      "source": [
        "#Create a plot to visualize the membership differences across the months\n",
        "#We use the Seaborn barplot\n",
        "plt.figure(figsize = (13,8))\n",
        "order_month = ['January','February','March','April','May','June','July','August',\n",
        "         'September','October','November','December']\n",
        "sns.countplot(data=df, x = 'month', hue = 'membership', order = order_month).set(title = \"Number of rides by month\")"
      ],
      "metadata": {
        "colab": {
          "base_uri": "https://localhost:8080/",
          "height": 735
        },
        "id": "VG4cWTub7Yiy",
        "outputId": "7f6b6fb0-79a1-417e-ec08-86d18d704fac"
      },
      "execution_count": null,
      "outputs": [
        {
          "output_type": "execute_result",
          "data": {
            "text/plain": [
              "[Text(0.5, 1.0, 'Number of rides by month')]"
            ]
          },
          "metadata": {},
          "execution_count": 29
        },
        {
          "output_type": "display_data",
          "data": {
            "text/plain": [
              "<Figure size 1300x800 with 1 Axes>"
            ],
            "image/png": "[encoded data removed]"
          },
          "metadata": {}
        }
      ]
    },
    {
      "cell_type": "markdown",
      "source": [
        "We see a bell shaped curve of activity for both membership types. Typically, peaks around the summer time"
      ],
      "metadata": {
        "id": "3FXiEqg7_OYn"
      }
    },
    {
      "cell_type": "code",
      "source": [
        "#Create a pivot table to analyze the number of riders by the days of the week\n",
        "pivot_days = (\n",
        "    pd.pivot_table(\n",
        "        #group by month and membership\n",
        "        df, index = ['day', 'membership'], values = 'ride_id',\n",
        "        #count the number of rides\n",
        "        aggfunc = {'ride_id':'count'}).reset_index().rename({'ride_id':'count'},axis = 1)\n",
        "        .replace({\n",
        "            False: 'casual riders', True: 'members'\n",
        "        })\n",
        "    )\n",
        "pivot_days.head()"
      ],
      "metadata": {
        "colab": {
          "base_uri": "https://localhost:8080/",
          "height": 206
        },
        "id": "bvSoZoCZ_q5F",
        "outputId": "23cbfd5a-6e03-461f-8a52-dcab9933be99"
      },
      "execution_count": null,
      "outputs": [
        {
          "output_type": "execute_result",
          "data": {
            "text/plain": [
              "        day membership   count\n",
              "0    Friday     casual  347112\n",
              "1    Friday     member  518882\n",
              "2    Monday     casual  253088\n",
              "3    Monday     member  477624\n",
              "4  Saturday     casual  459987"
            ],
            "text/html": [
              "\n",
              "\n",
              "  <div id=\"df-4e59e164-98a3-4e5a-98b6-53cf1d00d2d2\">\n",
              "    <div class=\"colab-df-container\">\n",
              "      <div>\n",
              "<style scoped>\n",
              "    .dataframe tbody tr th:only-of-type {\n",
              "        vertical-align: middle;\n",
              "    }\n",
              "\n",
              "    .dataframe tbody tr th {\n",
              "        vertical-align: top;\n",
              "    }\n",
              "\n",
              "    .dataframe thead th {\n",
              "        text-align: right;\n",
              "    }\n",
              "</style>\n",
              "<table border=\"1\" class=\"dataframe\">\n",
              "  <thead>\n",
              "    <tr style=\"text-align: right;\">\n",
              "      <th></th>\n",
              "      <th>day</th>\n",
              "      <th>membership</th>\n",
              "      <th>count</th>\n",
              "    </tr>\n",
              "  </thead>\n",
              "  <tbody>\n",
              "    <tr>\n",
              "      <th>0</th>\n",
              "      <td>Friday</td>\n",
              "      <td>casual</td>\n",
              "      <td>347112</td>\n",
              "    </tr>\n",
              "    <tr>\n",
              "      <th>1</th>\n",
              "      <td>Friday</td>\n",
              "      <td>member</td>\n",
              "      <td>518882</td>\n",
              "    </tr>\n",
              "    <tr>\n",
              "      <th>2</th>\n",
              "      <td>Monday</td>\n",
              "      <td>casual</td>\n",
              "      <td>253088</td>\n",
              "    </tr>\n",
              "    <tr>\n",
              "      <th>3</th>\n",
              "      <td>Monday</td>\n",
              "      <td>member</td>\n",
              "      <td>477624</td>\n",
              "    </tr>\n",
              "    <tr>\n",
              "      <th>4</th>\n",
              "      <td>Saturday</td>\n",
              "      <td>casual</td>\n",
              "      <td>459987</td>\n",
              "    </tr>\n",
              "  </tbody>\n",
              "</table>\n",
              "</div>\n",
              "      <button class=\"colab-df-convert\" onclick=\"convertToInteractive('df-4e59e164-98a3-4e5a-98b6-53cf1d00d2d2')\"\n",
              "              title=\"Convert this dataframe to an interactive table.\"\n",
              "              style=\"display:none;\">\n",
              "\n",
              "  <svg xmlns=\"http://www.w3.org/2000/svg\" height=\"24px\"viewBox=\"0 0 24 24\"\n",
              "       width=\"24px\">\n",
              "    <path d=\"M0 0h24v24H0V0z\" fill=\"none\"/>\n",
              "    <path d=\"M18.56 5.44l.94 2.06.94-2.06 2.06-.94-2.06-.94-.94-2.06-.94 2.06-2.06.94zm-11 1L8.5 8.5l.94-2.06 2.06-.94-2.06-.94L8.5 2.5l-.94 2.06-2.06.94zm10 10l.94 2.06.94-2.06 2.06-.94-2.06-.94-.94-2.06-.94 2.06-2.06.94z\"/><path d=\"M17.41 7.96l-1.37-1.37c-.4-.4-.92-.59-1.43-.59-.52 0-1.04.2-1.43.59L10.3 9.45l-7.72 7.72c-.78.78-.78 2.05 0 2.83L4 21.41c.39.39.9.59 1.41.59.51 0 1.02-.2 1.41-.59l7.78-7.78 2.81-2.81c.8-.78.8-2.07 0-2.86zM5.41 20L4 18.59l7.72-7.72 1.47 1.35L5.41 20z\"/>\n",
              "  </svg>\n",
              "      </button>\n",
              "\n",
              "\n",
              "\n",
              "    <div id=\"df-67640f20-c85d-44ec-ae56-f1edfc41af1c\">\n",
              "      <button class=\"colab-df-quickchart\" onclick=\"quickchart('df-67640f20-c85d-44ec-ae56-f1edfc41af1c')\"\n",
              "              title=\"Suggest charts.\"\n",
              "              style=\"display:none;\">\n",
              "\n",
              "<svg xmlns=\"http://www.w3.org/2000/svg\" height=\"24px\"viewBox=\"0 0 24 24\"\n",
              "     width=\"24px\">\n",
              "    <g>\n",
              "        <path d=\"M19 3H5c-1.1 0-2 .9-2 2v14c0 1.1.9 2 2 2h14c1.1 0 2-.9 2-2V5c0-1.1-.9-2-2-2zM9 17H7v-7h2v7zm4 0h-2V7h2v10zm4 0h-2v-4h2v4z\"/>\n",
              "    </g>\n",
              "</svg>\n",
              "      </button>\n",
              "    </div>\n",
              "\n",
              "<style>\n",
              "  .colab-df-quickchart {\n",
              "    background-color: #E8F0FE;\n",
              "    border: none;\n",
              "    border-radius: 50%;\n",
              "    cursor: pointer;\n",
              "    display: none;\n",
              "    fill: #1967D2;\n",
              "    height: 32px;\n",
              "    padding: 0 0 0 0;\n",
              "    width: 32px;\n",
              "  }\n",
              "\n",
              "  .colab-df-quickchart:hover {\n",
              "    background-color: #E2EBFA;\n",
              "    box-shadow: 0px 1px 2px rgba(60, 64, 67, 0.3), 0px 1px 3px 1px rgba(60, 64, 67, 0.15);\n",
              "    fill: #174EA6;\n",
              "  }\n",
              "\n",
              "  [theme=dark] .colab-df-quickchart {\n",
              "    background-color: #3B4455;\n",
              "    fill: #D2E3FC;\n",
              "  }\n",
              "\n",
              "  [theme=dark] .colab-df-quickchart:hover {\n",
              "    background-color: #434B5C;\n",
              "    box-shadow: 0px 1px 3px 1px rgba(0, 0, 0, 0.15);\n",
              "    filter: drop-shadow(0px 1px 2px rgba(0, 0, 0, 0.3));\n",
              "    fill: #FFFFFF;\n",
              "  }\n",
              "</style>\n",
              "\n",
              "    <script>\n",
              "      async function quickchart(key) {\n",
              "        const containerElement = document.querySelector('#' + key);\n",
              "        const charts = await google.colab.kernel.invokeFunction(\n",
              "            'suggestCharts', [key], {});\n",
              "      }\n",
              "    </script>\n",
              "\n",
              "      <script>\n",
              "\n",
              "function displayQuickchartButton(domScope) {\n",
              "  let quickchartButtonEl =\n",
              "    domScope.querySelector('#df-67640f20-c85d-44ec-ae56-f1edfc41af1c button.colab-df-quickchart');\n",
              "  quickchartButtonEl.style.display =\n",
              "    google.colab.kernel.accessAllowed ? 'block' : 'none';\n",
              "}\n",
              "\n",
              "        displayQuickchartButton(document);\n",
              "      </script>\n",
              "      <style>\n",
              "    .colab-df-container {\n",
              "      display:flex;\n",
              "      flex-wrap:wrap;\n",
              "      gap: 12px;\n",
              "    }\n",
              "\n",
              "    .colab-df-convert {\n",
              "      background-color: #E8F0FE;\n",
              "      border: none;\n",
              "      border-radius: 50%;\n",
              "      cursor: pointer;\n",
              "      display: none;\n",
              "      fill: #1967D2;\n",
              "      height: 32px;\n",
              "      padding: 0 0 0 0;\n",
              "      width: 32px;\n",
              "    }\n",
              "\n",
              "    .colab-df-convert:hover {\n",
              "      background-color: #E2EBFA;\n",
              "      box-shadow: 0px 1px 2px rgba(60, 64, 67, 0.3), 0px 1px 3px 1px rgba(60, 64, 67, 0.15);\n",
              "      fill: #174EA6;\n",
              "    }\n",
              "\n",
              "    [theme=dark] .colab-df-convert {\n",
              "      background-color: #3B4455;\n",
              "      fill: #D2E3FC;\n",
              "    }\n",
              "\n",
              "    [theme=dark] .colab-df-convert:hover {\n",
              "      background-color: #434B5C;\n",
              "      box-shadow: 0px 1px 3px 1px rgba(0, 0, 0, 0.15);\n",
              "      filter: drop-shadow(0px 1px 2px rgba(0, 0, 0, 0.3));\n",
              "      fill: #FFFFFF;\n",
              "    }\n",
              "  </style>\n",
              "\n",
              "      <script>\n",
              "        const buttonEl =\n",
              "          document.querySelector('#df-4e59e164-98a3-4e5a-98b6-53cf1d00d2d2 button.colab-df-convert');\n",
              "        buttonEl.style.display =\n",
              "          google.colab.kernel.accessAllowed ? 'block' : 'none';\n",
              "\n",
              "        async function convertToInteractive(key) {\n",
              "          const element = document.querySelector('#df-4e59e164-98a3-4e5a-98b6-53cf1d00d2d2');\n",
              "          const dataTable =\n",
              "            await google.colab.kernel.invokeFunction('convertToInteractive',\n",
              "                                                     [key], {});\n",
              "          if (!dataTable) return;\n",
              "\n",
              "          const docLinkHtml = 'Like what you see? Visit the ' +\n",
              "            '<a target=\"_blank\" href=https://colab.research.google.com/notebooks/data_table.ipynb>data table notebook</a>'\n",
              "            + ' to learn more about interactive tables.';\n",
              "          element.innerHTML = '';\n",
              "          dataTable['output_type'] = 'display_data';\n",
              "          await google.colab.output.renderOutput(dataTable, element);\n",
              "          const docLink = document.createElement('div');\n",
              "          docLink.innerHTML = docLinkHtml;\n",
              "          element.appendChild(docLink);\n",
              "        }\n",
              "      </script>\n",
              "    </div>\n",
              "  </div>\n"
            ]
          },
          "metadata": {},
          "execution_count": 16
        }
      ]
    },
    {
      "cell_type": "code",
      "source": [
        "#Create a plot to visualize the membership differences across the weeks\n",
        "#We use the Seaborn barplot\n",
        "plt.figure(figsize=(10,8))\n",
        "order_day = ['Monday','Tuesday','Wednesday','Thursday','Friday',\n",
        "             'Saturday','Sunday']\n",
        "sns.countplot(data=df, x = 'day', hue = 'membership', order = order_day).set(title = \"Number of rides by day\")"
      ],
      "metadata": {
        "colab": {
          "base_uri": "https://localhost:8080/",
          "height": 735
        },
        "id": "3EZF3YZ-_82s",
        "outputId": "ad289510-9467-41ad-e2a0-ee021a823b9e"
      },
      "execution_count": null,
      "outputs": [
        {
          "output_type": "execute_result",
          "data": {
            "text/plain": [
              "[Text(0.5, 1.0, 'Number of rides by day')]"
            ]
          },
          "metadata": {},
          "execution_count": 27
        },
        {
          "output_type": "display_data",
          "data": {
            "text/plain": [
              "<Figure size 1000x800 with 1 Axes>"
            ],
            "image/png": "[encoded data removed]"
          },
          "metadata": {}
        }
      ]
    },
    {
      "cell_type": "code",
      "source": [
        "#Create a pivot table to analyze the number of riders by the days of the week\n",
        "pivot_hour = (\n",
        "    pd.pivot_table(\n",
        "        #group by month and membership\n",
        "        df, index = ['hour', 'membership'], values = 'ride_id',\n",
        "        #count the number of rides\n",
        "        aggfunc = {'ride_id':'count'}).reset_index().rename({'ride_id':'count'},axis = 1)\n",
        "        .replace({\n",
        "            False: 'casual riders', True: 'members'\n",
        "        })\n",
        "    )\n",
        "pivot_hour.head()"
      ],
      "metadata": {
        "colab": {
          "base_uri": "https://localhost:8080/",
          "height": 206
        },
        "id": "VViZWbygWzow",
        "outputId": "23e86dde-fd74-448c-f53c-c5b23ef0bdfa"
      },
      "execution_count": null,
      "outputs": [
        {
          "output_type": "execute_result",
          "data": {
            "text/plain": [
              "   hour membership  count\n",
              "0     0     casual  43244\n",
              "1     0     member  36571\n",
              "2     1     casual  28260\n",
              "3     1     member  22389\n",
              "4     2     casual  17279"
            ],
            "text/html": [
              "\n",
              "\n",
              "  <div id=\"df-5f26871a-6d2f-49b5-8c19-b0a1a21ff61f\">\n",
              "    <div class=\"colab-df-container\">\n",
              "      <div>\n",
              "<style scoped>\n",
              "    .dataframe tbody tr th:only-of-type {\n",
              "        vertical-align: middle;\n",
              "    }\n",
              "\n",
              "    .dataframe tbody tr th {\n",
              "        vertical-align: top;\n",
              "    }\n",
              "\n",
              "    .dataframe thead th {\n",
              "        text-align: right;\n",
              "    }\n",
              "</style>\n",
              "<table border=\"1\" class=\"dataframe\">\n",
              "  <thead>\n",
              "    <tr style=\"text-align: right;\">\n",
              "      <th></th>\n",
              "      <th>hour</th>\n",
              "      <th>membership</th>\n",
              "      <th>count</th>\n",
              "    </tr>\n",
              "  </thead>\n",
              "  <tbody>\n",
              "    <tr>\n",
              "      <th>0</th>\n",
              "      <td>0</td>\n",
              "      <td>casual</td>\n",
              "      <td>43244</td>\n",
              "    </tr>\n",
              "    <tr>\n",
              "      <th>1</th>\n",
              "      <td>0</td>\n",
              "      <td>member</td>\n",
              "      <td>36571</td>\n",
              "    </tr>\n",
              "    <tr>\n",
              "      <th>2</th>\n",
              "      <td>1</td>\n",
              "      <td>casual</td>\n",
              "      <td>28260</td>\n",
              "    </tr>\n",
              "    <tr>\n",
              "      <th>3</th>\n",
              "      <td>1</td>\n",
              "      <td>member</td>\n",
              "      <td>22389</td>\n",
              "    </tr>\n",
              "    <tr>\n",
              "      <th>4</th>\n",
              "      <td>2</td>\n",
              "      <td>casual</td>\n",
              "      <td>17279</td>\n",
              "    </tr>\n",
              "  </tbody>\n",
              "</table>\n",
              "</div>\n",
              "      <button class=\"colab-df-convert\" onclick=\"convertToInteractive('df-5f26871a-6d2f-49b5-8c19-b0a1a21ff61f')\"\n",
              "              title=\"Convert this dataframe to an interactive table.\"\n",
              "              style=\"display:none;\">\n",
              "\n",
              "  <svg xmlns=\"http://www.w3.org/2000/svg\" height=\"24px\"viewBox=\"0 0 24 24\"\n",
              "       width=\"24px\">\n",
              "    <path d=\"M0 0h24v24H0V0z\" fill=\"none\"/>\n",
              "    <path d=\"M18.56 5.44l.94 2.06.94-2.06 2.06-.94-2.06-.94-.94-2.06-.94 2.06-2.06.94zm-11 1L8.5 8.5l.94-2.06 2.06-.94-2.06-.94L8.5 2.5l-.94 2.06-2.06.94zm10 10l.94 2.06.94-2.06 2.06-.94-2.06-.94-.94-2.06-.94 2.06-2.06.94z\"/><path d=\"M17.41 7.96l-1.37-1.37c-.4-.4-.92-.59-1.43-.59-.52 0-1.04.2-1.43.59L10.3 9.45l-7.72 7.72c-.78.78-.78 2.05 0 2.83L4 21.41c.39.39.9.59 1.41.59.51 0 1.02-.2 1.41-.59l7.78-7.78 2.81-2.81c.8-.78.8-2.07 0-2.86zM5.41 20L4 18.59l7.72-7.72 1.47 1.35L5.41 20z\"/>\n",
              "  </svg>\n",
              "      </button>\n",
              "\n",
              "\n",
              "\n",
              "    <div id=\"df-cc324c50-63e1-48ca-9b2c-1eac338aebc9\">\n",
              "      <button class=\"colab-df-quickchart\" onclick=\"quickchart('df-cc324c50-63e1-48ca-9b2c-1eac338aebc9')\"\n",
              "              title=\"Suggest charts.\"\n",
              "              style=\"display:none;\">\n",
              "\n",
              "<svg xmlns=\"http://www.w3.org/2000/svg\" height=\"24px\"viewBox=\"0 0 24 24\"\n",
              "     width=\"24px\">\n",
              "    <g>\n",
              "        <path d=\"M19 3H5c-1.1 0-2 .9-2 2v14c0 1.1.9 2 2 2h14c1.1 0 2-.9 2-2V5c0-1.1-.9-2-2-2zM9 17H7v-7h2v7zm4 0h-2V7h2v10zm4 0h-2v-4h2v4z\"/>\n",
              "    </g>\n",
              "</svg>\n",
              "      </button>\n",
              "    </div>\n",
              "\n",
              "<style>\n",
              "  .colab-df-quickchart {\n",
              "    background-color: #E8F0FE;\n",
              "    border: none;\n",
              "    border-radius: 50%;\n",
              "    cursor: pointer;\n",
              "    display: none;\n",
              "    fill: #1967D2;\n",
              "    height: 32px;\n",
              "    padding: 0 0 0 0;\n",
              "    width: 32px;\n",
              "  }\n",
              "\n",
              "  .colab-df-quickchart:hover {\n",
              "    background-color: #E2EBFA;\n",
              "    box-shadow: 0px 1px 2px rgba(60, 64, 67, 0.3), 0px 1px 3px 1px rgba(60, 64, 67, 0.15);\n",
              "    fill: #174EA6;\n",
              "  }\n",
              "\n",
              "  [theme=dark] .colab-df-quickchart {\n",
              "    background-color: #3B4455;\n",
              "    fill: #D2E3FC;\n",
              "  }\n",
              "\n",
              "  [theme=dark] .colab-df-quickchart:hover {\n",
              "    background-color: #434B5C;\n",
              "    box-shadow: 0px 1px 3px 1px rgba(0, 0, 0, 0.15);\n",
              "    filter: drop-shadow(0px 1px 2px rgba(0, 0, 0, 0.3));\n",
              "    fill: #FFFFFF;\n",
              "  }\n",
              "</style>\n",
              "\n",
              "    <script>\n",
              "      async function quickchart(key) {\n",
              "        const containerElement = document.querySelector('#' + key);\n",
              "        const charts = await google.colab.kernel.invokeFunction(\n",
              "            'suggestCharts', [key], {});\n",
              "      }\n",
              "    </script>\n",
              "\n",
              "      <script>\n",
              "\n",
              "function displayQuickchartButton(domScope) {\n",
              "  let quickchartButtonEl =\n",
              "    domScope.querySelector('#df-cc324c50-63e1-48ca-9b2c-1eac338aebc9 button.colab-df-quickchart');\n",
              "  quickchartButtonEl.style.display =\n",
              "    google.colab.kernel.accessAllowed ? 'block' : 'none';\n",
              "}\n",
              "\n",
              "        displayQuickchartButton(document);\n",
              "      </script>\n",
              "      <style>\n",
              "    .colab-df-container {\n",
              "      display:flex;\n",
              "      flex-wrap:wrap;\n",
              "      gap: 12px;\n",
              "    }\n",
              "\n",
              "    .colab-df-convert {\n",
              "      background-color: #E8F0FE;\n",
              "      border: none;\n",
              "      border-radius: 50%;\n",
              "      cursor: pointer;\n",
              "      display: none;\n",
              "      fill: #1967D2;\n",
              "      height: 32px;\n",
              "      padding: 0 0 0 0;\n",
              "      width: 32px;\n",
              "    }\n",
              "\n",
              "    .colab-df-convert:hover {\n",
              "      background-color: #E2EBFA;\n",
              "      box-shadow: 0px 1px 2px rgba(60, 64, 67, 0.3), 0px 1px 3px 1px rgba(60, 64, 67, 0.15);\n",
              "      fill: #174EA6;\n",
              "    }\n",
              "\n",
              "    [theme=dark] .colab-df-convert {\n",
              "      background-color: #3B4455;\n",
              "      fill: #D2E3FC;\n",
              "    }\n",
              "\n",
              "    [theme=dark] .colab-df-convert:hover {\n",
              "      background-color: #434B5C;\n",
              "      box-shadow: 0px 1px 3px 1px rgba(0, 0, 0, 0.15);\n",
              "      filter: drop-shadow(0px 1px 2px rgba(0, 0, 0, 0.3));\n",
              "      fill: #FFFFFF;\n",
              "    }\n",
              "  </style>\n",
              "\n",
              "      <script>\n",
              "        const buttonEl =\n",
              "          document.querySelector('#df-5f26871a-6d2f-49b5-8c19-b0a1a21ff61f button.colab-df-convert');\n",
              "        buttonEl.style.display =\n",
              "          google.colab.kernel.accessAllowed ? 'block' : 'none';\n",
              "\n",
              "        async function convertToInteractive(key) {\n",
              "          const element = document.querySelector('#df-5f26871a-6d2f-49b5-8c19-b0a1a21ff61f');\n",
              "          const dataTable =\n",
              "            await google.colab.kernel.invokeFunction('convertToInteractive',\n",
              "                                                     [key], {});\n",
              "          if (!dataTable) return;\n",
              "\n",
              "          const docLinkHtml = 'Like what you see? Visit the ' +\n",
              "            '<a target=\"_blank\" href=https://colab.research.google.com/notebooks/data_table.ipynb>data table notebook</a>'\n",
              "            + ' to learn more about interactive tables.';\n",
              "          element.innerHTML = '';\n",
              "          dataTable['output_type'] = 'display_data';\n",
              "          await google.colab.output.renderOutput(dataTable, element);\n",
              "          const docLink = document.createElement('div');\n",
              "          docLink.innerHTML = docLinkHtml;\n",
              "          element.appendChild(docLink);\n",
              "        }\n",
              "      </script>\n",
              "    </div>\n",
              "  </div>\n"
            ]
          },
          "metadata": {},
          "execution_count": 14
        }
      ]
    },
    {
      "cell_type": "code",
      "source": [
        "#Create a plot to visualize the membership differences across the hours of the day\n",
        "#Military time\n",
        "#We use the Seaborn barplot\n",
        "#order_hour\n",
        "sns.countplot(data=df, x = 'hour', hue = 'membership').set(title = \"Number of rides by the hour (military time)\")"
      ],
      "metadata": {
        "colab": {
          "base_uri": "https://localhost:8080/",
          "height": 489
        },
        "id": "bLhXlAxpZNGu",
        "outputId": "2b362c7b-74a9-4ac1-f468-8b399e9cd38c"
      },
      "execution_count": null,
      "outputs": [
        {
          "output_type": "execute_result",
          "data": {
            "text/plain": [
              "[Text(0.5, 1.0, 'Number of rides by the hour (military time)')]"
            ]
          },
          "metadata": {},
          "execution_count": 24
        },
        {
          "output_type": "display_data",
          "data": {
            "text/plain": [
              "<Figure size 640x480 with 1 Axes>"
            ],
            "image/png": "[encoded data removed]"
          },
          "metadata": {}
        }
      ]
    },
    {
      "cell_type": "markdown",
      "source": [
        "#Conclusion\n",
        "**Annual members are much higher populated than casual members**\n",
        "\n",
        "* There is an overwhelmingly higher number of annual members than casual members\n",
        "\n",
        "**The trends of ride counts are seasonally consistent for both groups**\n",
        "\n",
        "* Both membership types show a bell curved trend throughout the year, peaking around summer time\n",
        "\n",
        "**The trends of ride counts during work hours are consistent for both groups**\n",
        "\n",
        "* Both membership types show peak ride counts during work hours, notably from 6am\n",
        "\n",
        "to 9pm\n",
        "\n",
        "**Weekday ride counts are different for each group**\n",
        "\n",
        "* Annual members show peak ride times during the work week. Casual members have more rides on weekends.\n",
        "\n",
        "**Both groups prefer electric bikes over classic bikes**\n",
        "\n",
        "* More casual members proportionally prefer electric bikes\n",
        "\n",
        "**Casual members have much longer ride times**\n",
        "\n",
        "* Casual members have a significantly higher trip duration than annual members\n",
        "\n",
        "#Insights\n",
        "\n",
        "It is more likely that annually committed members are using bikes to commute home from work whilst casual members are using the bikes recreationally. Casual members are likely still using bikes to commute as well, based on the trend seen for work hours.\n",
        "\n",
        "#How do we go about converting casual members to annually committed members?\n",
        "\n",
        "There are much fewer casual members, who prefer using the bikes on weekends, but we still see activity throughout the whole week akin to annual members. A marketing strategy should take advantage of the long ride times such as:\n",
        "* offering reduced hourly rates to use the bikes as an annual member\n",
        "* offering promotions during the summertime, where peak activity is seen"
      ],
      "metadata": {
        "id": "gKOg03utpJrt"
      }
    }
  ]
}